{
 "cells": [
  {
   "cell_type": "markdown",
   "metadata": {},
   "source": [
    "# Introduction to Loops in Dictionaries:\n",
    "    "
   ]
  },
  {
   "cell_type": "code",
   "execution_count": null,
   "metadata": {},
   "outputs": [],
   "source": [
    "# How to implement for loops in the dictionaries:\n",
    "\n",
    "General Syntax of a for loop in dictionary:\n",
    "\n",
    "for tempvar1, tempvar2 in mainvar.items():\n",
    "    print(tempvar1)\n",
    "    print(tempvar2)"
   ]
  },
  {
   "cell_type": "code",
   "execution_count": null,
   "metadata": {},
   "outputs": [],
   "source": [
    "# Question: Why we are considering 2 temporary variable in the for loop:\n",
    "Ans: as we know dictionary is a combination of key, value and hence we have to provide 2 temporary variables.\n",
    "    Also, this is how we should define a for loop for dictionary======> key, value"
   ]
  },
  {
   "cell_type": "code",
   "execution_count": 7,
   "metadata": {},
   "outputs": [
    {
     "name": "stdout",
     "output_type": "stream",
     "text": [
      "{'color': 'green', 'points': 5, 'start_point': 0, 'current_point': 10}\n"
     ]
    }
   ],
   "source": [
    "alien={'color':'green','points':5,'start_point':0,'current_point':10}\n",
    "print(alien)"
   ]
  },
  {
   "cell_type": "code",
   "execution_count": 8,
   "metadata": {},
   "outputs": [
    {
     "name": "stdout",
     "output_type": "stream",
     "text": [
      "color\n",
      "green\n",
      "points\n",
      "5\n",
      "start_point\n",
      "0\n",
      "current_point\n",
      "10\n"
     ]
    }
   ],
   "source": [
    "for x,y in alien.items(): # here x and y are temporary variables and you can define as per your convenient\n",
    "    print(x)\n",
    "    print(y)"
   ]
  },
  {
   "cell_type": "code",
   "execution_count": 9,
   "metadata": {},
   "outputs": [
    {
     "name": "stdout",
     "output_type": "stream",
     "text": [
      "Key:color\n",
      "Value:green\n",
      "Key:points\n",
      "Value:5\n",
      "Key:start_point\n",
      "Value:0\n",
      "Key:current_point\n",
      "Value:10\n"
     ]
    }
   ],
   "source": [
    "# Lets impovise the above code by adding f string to the outputs to understnd the things in a better way:\n",
    "\n",
    "for x,y in alien.items(): # here x and y are temporary variables and you can define as per your convenient\n",
    "    print(f\"Key:{x}\")\n",
    "    print(f\"Value:{y}\")\n"
   ]
  },
  {
   "cell_type": "code",
   "execution_count": null,
   "metadata": {},
   "outputs": [],
   "source": [
    "# From the above output we can clearly see each items belong to which variable. however to see the output in a better way,.....\n",
    "#.......we can add a new line delimiter (\\n) to get the better look for the same"
   ]
  },
  {
   "cell_type": "code",
   "execution_count": 10,
   "metadata": {},
   "outputs": [
    {
     "name": "stdout",
     "output_type": "stream",
     "text": [
      "Key:color\n",
      "Value:green\n",
      "\n",
      "Key:points\n",
      "Value:5\n",
      "\n",
      "Key:start_point\n",
      "Value:0\n",
      "\n",
      "Key:current_point\n",
      "Value:10\n",
      "\n"
     ]
    }
   ],
   "source": [
    "for x,y in alien.items(): # here x and y are temporary variables and you can define as per your convenient\n",
    "    print(f\"Key:{x}\")\n",
    "    print(f\"Value:{y}\\n\") #adding newline delimiter to see the output in a better way.\n"
   ]
  },
  {
   "cell_type": "code",
   "execution_count": null,
   "metadata": {},
   "outputs": [],
   "source": [
    "# Req: Lets say if I want to see only the keys present in the above alien dictionary and how to extarct the same?"
   ]
  },
  {
   "cell_type": "code",
   "execution_count": null,
   "metadata": {},
   "outputs": [],
   "source": [
    "#Syntax:\n",
    "for tempvar in mainvar.keys():\n",
    "    print(tempvar)"
   ]
  },
  {
   "cell_type": "code",
   "execution_count": 11,
   "metadata": {},
   "outputs": [
    {
     "name": "stdout",
     "output_type": "stream",
     "text": [
      "('color', 'green')\n",
      "('points', 5)\n",
      "('start_point', 0)\n",
      "('current_point', 10)\n"
     ]
    }
   ],
   "source": [
    "for x in alien.items(): # incase if we use items in mainvar the output will be different\n",
    "    print(x)"
   ]
  },
  {
   "cell_type": "code",
   "execution_count": 12,
   "metadata": {},
   "outputs": [
    {
     "name": "stdout",
     "output_type": "stream",
     "text": [
      "color\n",
      "points\n",
      "start_point\n",
      "current_point\n"
     ]
    }
   ],
   "source": [
    "for x in alien.keys(): # so use keys as mandate\n",
    "    print(x)"
   ]
  },
  {
   "cell_type": "code",
   "execution_count": 14,
   "metadata": {},
   "outputs": [
    {
     "name": "stdout",
     "output_type": "stream",
     "text": [
      "color\n",
      "points\n",
      "start_point\n",
      "current_point\n"
     ]
    }
   ],
   "source": [
    "for x in alien.keys(): # so use keys as mandate\n",
    "    print(x)"
   ]
  },
  {
   "cell_type": "code",
   "execution_count": null,
   "metadata": {},
   "outputs": [],
   "source": [
    "for x in alien.#after writting till . and press \"tab\" key will helps in knowing different attributes avilable in the dictionary."
   ]
  },
  {
   "cell_type": "code",
   "execution_count": null,
   "metadata": {},
   "outputs": [],
   "source": [
    "alien.#press tab will get list of attributes (ex: items, keys, update, pop, setdefault, values .....etc)\n",
    "#explore on these attributes to know more about these things."
   ]
  },
  {
   "cell_type": "code",
   "execution_count": 16,
   "metadata": {},
   "outputs": [
    {
     "name": "stdout",
     "output_type": "stream",
     "text": [
      "Keys:color\n",
      "Keys:points\n",
      "Keys:start_point\n",
      "Keys:current_point\n"
     ]
    }
   ],
   "source": [
    "# Futher improvise the output format by adding a f-string to the output:\n",
    "\n",
    "for x in alien.keys():\n",
    "    print(f\"Keys:{x}\")"
   ]
  },
  {
   "cell_type": "code",
   "execution_count": 18,
   "metadata": {},
   "outputs": [
    {
     "name": "stdout",
     "output_type": "stream",
     "text": [
      "Keys:color\n",
      "\n",
      "Keys:points\n",
      "\n",
      "Keys:start_point\n",
      "\n",
      "Keys:current_point\n",
      "\n"
     ]
    }
   ],
   "source": [
    "for x in alien.keys():\n",
    "    print(f\"Keys:{x}\\n\")"
   ]
  },
  {
   "cell_type": "code",
   "execution_count": 19,
   "metadata": {},
   "outputs": [
    {
     "name": "stdout",
     "output_type": "stream",
     "text": [
      "{'color': 'green', 'points': 5, 'start_point': 0, 'current_point': 10}\n"
     ]
    }
   ],
   "source": [
    "#req: How can I extract the values from a dictionary?\n",
    "print(alien)"
   ]
  },
  {
   "cell_type": "code",
   "execution_count": 20,
   "metadata": {},
   "outputs": [
    {
     "name": "stdout",
     "output_type": "stream",
     "text": [
      "green\n",
      "5\n",
      "0\n",
      "10\n"
     ]
    }
   ],
   "source": [
    "for y in alien.values():\n",
    "    print(y)"
   ]
  },
  {
   "cell_type": "code",
   "execution_count": 21,
   "metadata": {},
   "outputs": [
    {
     "name": "stdout",
     "output_type": "stream",
     "text": [
      "Values:green\n",
      "Values:5\n",
      "Values:0\n",
      "Values:10\n"
     ]
    }
   ],
   "source": [
    "# To understand the output in a better way we can add fstring for the same:\n",
    "for y in alien.values():\n",
    "    print(f\"Values:{y}\")"
   ]
  },
  {
   "cell_type": "code",
   "execution_count": 22,
   "metadata": {},
   "outputs": [
    {
     "name": "stdout",
     "output_type": "stream",
     "text": [
      "Values:green\n",
      "\n",
      "Values:5\n",
      "\n",
      "Values:0\n",
      "\n",
      "Values:10\n",
      "\n"
     ]
    }
   ],
   "source": [
    "for y in alien.values():\n",
    "    print(f\"Values:{y}\\n\")"
   ]
  },
  {
   "cell_type": "markdown",
   "metadata": {},
   "source": [
    "# Introduction to Conditional Statements: =====> If else conditions-------!"
   ]
  },
  {
   "cell_type": "code",
   "execution_count": null,
   "metadata": {},
   "outputs": [],
   "source": [
    "General syntax:\n",
    "===============\n",
    "if condition:\n",
    "    print(......)\n",
    "else:\n",
    "    print(......)"
   ]
  },
  {
   "cell_type": "code",
   "execution_count": 25,
   "metadata": {},
   "outputs": [
    {
     "name": "stdout",
     "output_type": "stream",
     "text": [
      "50\n"
     ]
    },
    {
     "data": {
      "text/plain": [
       "int"
      ]
     },
     "execution_count": 25,
     "metadata": {},
     "output_type": "execute_result"
    }
   ],
   "source": [
    "x=50\n",
    "print(x)\n",
    "type(x)"
   ]
  },
  {
   "cell_type": "code",
   "execution_count": null,
   "metadata": {},
   "outputs": [],
   "source": [
    "#condition: if x >50 then pass otherwise fail: Here X is a marks of a student"
   ]
  },
  {
   "cell_type": "code",
   "execution_count": 29,
   "metadata": {},
   "outputs": [
    {
     "name": "stdout",
     "output_type": "stream",
     "text": [
      "FAIL\n"
     ]
    }
   ],
   "source": [
    "if x > 50:\n",
    "    print(\"PASS\")\n",
    "else:\n",
    "    print(\"FAIL\")"
   ]
  },
  {
   "cell_type": "code",
   "execution_count": null,
   "metadata": {},
   "outputs": [],
   "source": [
    "# Build a simple voting application:\n",
    "if a person age is >=18 then he is eligible to vote and otherwise no  "
   ]
  },
  {
   "cell_type": "code",
   "execution_count": 1,
   "metadata": {},
   "outputs": [],
   "source": [
    "age=19"
   ]
  },
  {
   "cell_type": "code",
   "execution_count": 2,
   "metadata": {},
   "outputs": [
    {
     "name": "stdout",
     "output_type": "stream",
     "text": [
      "you are old enough to vote\n"
     ]
    }
   ],
   "source": [
    "if age >=18: # Checkng the condition\n",
    "    print(\"you are old enough to vote\")"
   ]
  },
  {
   "cell_type": "code",
   "execution_count": 3,
   "metadata": {},
   "outputs": [],
   "source": [
    "age=15"
   ]
  },
  {
   "cell_type": "code",
   "execution_count": 4,
   "metadata": {},
   "outputs": [
    {
     "name": "stdout",
     "output_type": "stream",
     "text": [
      "you are too youngg to vote\n",
      "Please register your vote once you turn as 18\n"
     ]
    }
   ],
   "source": [
    "if age >=18:\n",
    "    print(\"you are old enough to vote\")\n",
    "    print(\"Have you registered for your vote yet...?\")\n",
    "else:\n",
    "    print(\"you are too youngg to vote\")\n",
    "    print(\"Please register your vote once you turn as 18\")"
   ]
  },
  {
   "cell_type": "code",
   "execution_count": null,
   "metadata": {},
   "outputs": [],
   "source": [
    "# Lets take an example from a list and do conditional statements"
   ]
  },
  {
   "cell_type": "code",
   "execution_count": 5,
   "metadata": {},
   "outputs": [
    {
     "name": "stdout",
     "output_type": "stream",
     "text": [
      "['audi', 'baleno', 'bmw', 'kwid', 'toyata', 'subaru', 'ford', 'swift']\n"
     ]
    }
   ],
   "source": [
    "cars=[\"audi\",\"baleno\",\"bmw\",\"kwid\",\"toyata\",\"subaru\",\"ford\",\"swift\"]\n",
    "print(cars)"
   ]
  },
  {
   "cell_type": "code",
   "execution_count": null,
   "metadata": {},
   "outputs": [],
   "source": [
    "#req: from the above list i want to print bmw car in caps and rest all other brands are in title form...!\n",
    "How can we achieve this ?"
   ]
  },
  {
   "cell_type": "code",
   "execution_count": 8,
   "metadata": {},
   "outputs": [
    {
     "name": "stdout",
     "output_type": "stream",
     "text": [
      "Audi\n",
      "Baleno\n",
      "BMW\n",
      "Kwid\n",
      "Toyata\n",
      "Subaru\n",
      "Ford\n",
      "Swift\n"
     ]
    }
   ],
   "source": [
    "# Here we are using for loop and if condition together to achieve this:\n",
    "\n",
    "for x in cars:\n",
    "    if x==\"bmw\":\n",
    "        print(x.upper())\n",
    "    else:\n",
    "        print(x.title())"
   ]
  },
  {
   "cell_type": "code",
   "execution_count": null,
   "metadata": {},
   "outputs": [],
   "source": [
    "Req: if there are multiple conditions are existing then how to validate the conditions alltogether ?"
   ]
  },
  {
   "cell_type": "code",
   "execution_count": null,
   "metadata": {},
   "outputs": [],
   "source": [
    "#Scenario: Entry ticket for a garden\n",
    "\n",
    "Admission for anyone under the age of 4 is free\n",
    "admission for anyone between the age of 4 and 18 is 25\n",
    "admission for anyone age 18 or above is 40\n",
    "\n"
   ]
  },
  {
   "cell_type": "code",
   "execution_count": 9,
   "metadata": {},
   "outputs": [],
   "source": [
    "age=2"
   ]
  },
  {
   "cell_type": "code",
   "execution_count": 10,
   "metadata": {},
   "outputs": [
    {
     "name": "stdout",
     "output_type": "stream",
     "text": [
      "your entry fee is 0\n"
     ]
    }
   ],
   "source": [
    "if age <4:\n",
    "    print(\"your entry fee is 0\")\n",
    "elif age <18:\n",
    "    print(\"your entry fee is 25\")\n",
    "else:\n",
    "    print(\"your entry fee is 40\")"
   ]
  },
  {
   "cell_type": "code",
   "execution_count": 11,
   "metadata": {},
   "outputs": [],
   "source": [
    "age=12"
   ]
  },
  {
   "cell_type": "code",
   "execution_count": 12,
   "metadata": {},
   "outputs": [
    {
     "name": "stdout",
     "output_type": "stream",
     "text": [
      "your entry fee is 25\n"
     ]
    }
   ],
   "source": [
    "if age <4:\n",
    "    print(\"your entry fee is 0\")\n",
    "elif age <18:\n",
    "    print(\"your entry fee is 25\")\n",
    "else:\n",
    "    print(\"your entry fee is 40\")"
   ]
  },
  {
   "cell_type": "code",
   "execution_count": 13,
   "metadata": {},
   "outputs": [],
   "source": [
    "age=30"
   ]
  },
  {
   "cell_type": "code",
   "execution_count": 14,
   "metadata": {},
   "outputs": [
    {
     "name": "stdout",
     "output_type": "stream",
     "text": [
      "your entry fee is 40\n"
     ]
    }
   ],
   "source": [
    "if age <4:\n",
    "    print(\"your entry fee is 0\")\n",
    "elif age <18:\n",
    "    print(\"your entry fee is 25\")\n",
    "else:\n",
    "    print(\"your entry fee is 40\")"
   ]
  },
  {
   "cell_type": "code",
   "execution_count": null,
   "metadata": {},
   "outputs": [],
   "source": []
  }
 ],
 "metadata": {
  "kernelspec": {
   "display_name": "Python 3",
   "language": "python",
   "name": "python3"
  },
  "language_info": {
   "codemirror_mode": {
    "name": "ipython",
    "version": 3
   },
   "file_extension": ".py",
   "mimetype": "text/x-python",
   "name": "python",
   "nbconvert_exporter": "python",
   "pygments_lexer": "ipython3",
   "version": "3.8.5"
  }
 },
 "nbformat": 4,
 "nbformat_minor": 4
}
