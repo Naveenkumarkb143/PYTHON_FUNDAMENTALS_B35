{
 "cells": [
  {
   "cell_type": "markdown",
   "metadata": {},
   "source": [
    "# Fundamentals of Python"
   ]
  },
  {
   "cell_type": "code",
   "execution_count": 1,
   "metadata": {},
   "outputs": [],
   "source": [
    "#Installation Process Steps:"
   ]
  },
  {
   "cell_type": "code",
   "execution_count": null,
   "metadata": {},
   "outputs": [],
   "source": [
    "WWW.anaconda.com\n",
    "www.github.com\n"
   ]
  },
  {
   "cell_type": "code",
   "execution_count": null,
   "metadata": {},
   "outputs": [],
   "source": [
    "WWW.anaconda.com---->Get Started--->Download anaconda installer-->Windows (Python 3.8 version)\n",
    "64 bit graphical installer--->click on Next....next...next...>install in your system----> you can see anaconda navigator\n",
    "Open it--->takes few mins while launching 1st time--->click on launch for Jupyter notebook"
   ]
  },
  {
   "cell_type": "code",
   "execution_count": null,
   "metadata": {},
   "outputs": [],
   "source": [
    "Execution: Shift + Enter\n",
    "How to save the file?\n",
    "Go to file-->Download as--->choose .ipynb notebbok"
   ]
  },
  {
   "cell_type": "code",
   "execution_count": null,
   "metadata": {},
   "outputs": [],
   "source": [
    "www.github.com:\n",
    "Sign up on github.com-->Username----Email Address----Password\n",
    "Create a new repository---click on add a read me file----click on creating repository\n",
    "\n",
    "How to add files?\n",
    "click on Add file---then click on upload file--chose from downloads---finally click on commit changes"
   ]
  },
  {
   "cell_type": "markdown",
   "metadata": {},
   "source": [
    "# Introduction to Variables in Python:"
   ]
  },
  {
   "cell_type": "code",
   "execution_count": 2,
   "metadata": {},
   "outputs": [
    {
     "data": {
      "text/plain": [
       "8"
      ]
     },
     "execution_count": 2,
     "metadata": {},
     "output_type": "execute_result"
    }
   ],
   "source": [
    "x=5\n",
    "y=3\n",
    "x+y"
   ]
  },
  {
   "cell_type": "code",
   "execution_count": null,
   "metadata": {},
   "outputs": [],
   "source": [
    "# Rules for declaring variables in Python\n"
   ]
  },
  {
   "cell_type": "code",
   "execution_count": null,
   "metadata": {},
   "outputs": [],
   "source": [
    "#Rule no 1: No name spaces while declaring the variable names in python"
   ]
  },
  {
   "cell_type": "code",
   "execution_count": 3,
   "metadata": {},
   "outputs": [
    {
     "ename": "SyntaxError",
     "evalue": "invalid syntax (<ipython-input-3-ef5c264074b7>, line 1)",
     "output_type": "error",
     "traceback": [
      "\u001b[1;36m  File \u001b[1;32m\"<ipython-input-3-ef5c264074b7>\"\u001b[1;36m, line \u001b[1;32m1\u001b[0m\n\u001b[1;33m    first name=\"Naveen\"\u001b[0m\n\u001b[1;37m          ^\u001b[0m\n\u001b[1;31mSyntaxError\u001b[0m\u001b[1;31m:\u001b[0m invalid syntax\n"
     ]
    }
   ],
   "source": [
    "first name=\"Naveen\"\n",
    "print(first name)"
   ]
  },
  {
   "cell_type": "code",
   "execution_count": 5,
   "metadata": {},
   "outputs": [
    {
     "name": "stdout",
     "output_type": "stream",
     "text": [
      "Naveen\n"
     ]
    }
   ],
   "source": [
    "first_name=\"Naveen\"\n",
    "print(first_name)"
   ]
  },
  {
   "cell_type": "code",
   "execution_count": null,
   "metadata": {},
   "outputs": [],
   "source": [
    "#Rule No:02. Variable names shouldn't start with a number"
   ]
  },
  {
   "cell_type": "code",
   "execution_count": 6,
   "metadata": {},
   "outputs": [
    {
     "ename": "SyntaxError",
     "evalue": "invalid syntax (<ipython-input-6-815ffab2842f>, line 1)",
     "output_type": "error",
     "traceback": [
      "\u001b[1;36m  File \u001b[1;32m\"<ipython-input-6-815ffab2842f>\"\u001b[1;36m, line \u001b[1;32m1\u001b[0m\n\u001b[1;33m    1name=\"KOlar\"\u001b[0m\n\u001b[1;37m     ^\u001b[0m\n\u001b[1;31mSyntaxError\u001b[0m\u001b[1;31m:\u001b[0m invalid syntax\n"
     ]
    }
   ],
   "source": [
    "1name=\"KOlar\"\n",
    "Print(1name)"
   ]
  },
  {
   "cell_type": "code",
   "execution_count": 7,
   "metadata": {},
   "outputs": [
    {
     "name": "stdout",
     "output_type": "stream",
     "text": [
      "Kolar\n"
     ]
    }
   ],
   "source": [
    "name1=\"Kolar\"\n",
    "print(name1)"
   ]
  },
  {
   "cell_type": "code",
   "execution_count": null,
   "metadata": {},
   "outputs": [],
   "source": [
    "#Rule No-03: Variable name shouldnot contain any special characters: @, #, $, %, &, -----etc"
   ]
  },
  {
   "cell_type": "code",
   "execution_count": 8,
   "metadata": {},
   "outputs": [
    {
     "ename": "SyntaxError",
     "evalue": "invalid syntax (<ipython-input-8-641c034560fc>, line 2)",
     "output_type": "error",
     "traceback": [
      "\u001b[1;36m  File \u001b[1;32m\"<ipython-input-8-641c034560fc>\"\u001b[1;36m, line \u001b[1;32m2\u001b[0m\n\u001b[1;33m    print(name@)\u001b[0m\n\u001b[1;37m               ^\u001b[0m\n\u001b[1;31mSyntaxError\u001b[0m\u001b[1;31m:\u001b[0m invalid syntax\n"
     ]
    }
   ],
   "source": [
    "name@=\"Faiyaz\"\n",
    "print(name@)"
   ]
  },
  {
   "cell_type": "code",
   "execution_count": null,
   "metadata": {},
   "outputs": [],
   "source": [
    "# Introduction to data types in Python:\n",
    "1. String\n",
    "2. Numbers ---->Integers and Floats (decimals)\n",
    "3. List\n",
    "4. Tuple\n",
    "5. Dictionary\n",
    "\n",
    "# Classification of data types:\n",
    "# 2 types \n",
    "A. Mutable datatype: we can alter or edit once it has been declared\n",
    "B. Immutable datatype: We are not able to alter ot edit the data type.\n",
    "\n",
    "# Python is a Case sensitive language\n",
    "# to comment anything in python we use # symobol"
   ]
  },
  {
   "cell_type": "markdown",
   "metadata": {},
   "source": [
    "# Introduction to String data type"
   ]
  },
  {
   "cell_type": "code",
   "execution_count": null,
   "metadata": {},
   "outputs": [],
   "source": [
    "#Definition: A string is nothing but series of characters enclosed in quotes.\n",
    "#Classification: String is immutable data type.\n",
    "# How do you define a String: --- Through Single quote, double quote or tripple quote.\n",
    "\n",
    "#In general we us either single quote or double quote."
   ]
  },
  {
   "cell_type": "code",
   "execution_count": 12,
   "metadata": {},
   "outputs": [
    {
     "name": "stdout",
     "output_type": "stream",
     "text": [
      "Naveen\n",
      "Naveen\n",
      "Naveen\n"
     ]
    }
   ],
   "source": [
    "Name1='Naveen'\n",
    "print(Name1)\n",
    "name2=\"Naveen\"\n",
    "print(name2)\n",
    "name3=\"\"\"Naveen\"\"\"\n",
    "print(name3)\n"
   ]
  },
  {
   "cell_type": "code",
   "execution_count": null,
   "metadata": {},
   "outputs": [],
   "source": [
    "# How to confirm and validate a data type: ------> by using type method"
   ]
  },
  {
   "cell_type": "code",
   "execution_count": 13,
   "metadata": {},
   "outputs": [
    {
     "data": {
      "text/plain": [
       "str"
      ]
     },
     "execution_count": 13,
     "metadata": {},
     "output_type": "execute_result"
    }
   ],
   "source": [
    "type(name2) # type methos helps in identifying the data type"
   ]
  },
  {
   "cell_type": "markdown",
   "metadata": {},
   "source": [
    "# DAY-03 : INTRODUCTION TO STRING: STRING METHODS"
   ]
  },
  {
   "cell_type": "code",
   "execution_count": null,
   "metadata": {},
   "outputs": [],
   "source": [
    "# type method: to know a particular data type we use type methos"
   ]
  },
  {
   "cell_type": "code",
   "execution_count": 14,
   "metadata": {},
   "outputs": [
    {
     "data": {
      "text/plain": [
       "str"
      ]
     },
     "execution_count": 14,
     "metadata": {},
     "output_type": "execute_result"
    }
   ],
   "source": [
    "type(Name1)"
   ]
  },
  {
   "cell_type": "code",
   "execution_count": null,
   "metadata": {},
   "outputs": [],
   "source": [
    "# title method: It converts 1st letter of a word to capital letter"
   ]
  },
  {
   "cell_type": "code",
   "execution_count": 17,
   "metadata": {},
   "outputs": [
    {
     "name": "stdout",
     "output_type": "stream",
     "text": [
      "naveen kumar k b\n",
      "Naveen Kumar K B\n"
     ]
    }
   ],
   "source": [
    "name=\"naveen kumar k b\"\n",
    "print(name)\n",
    "print(name.title())"
   ]
  },
  {
   "cell_type": "code",
   "execution_count": null,
   "metadata": {},
   "outputs": [],
   "source": [
    "#upper: to get the word in capital letter\n",
    "#lower: to get the word in small letter"
   ]
  },
  {
   "cell_type": "code",
   "execution_count": 18,
   "metadata": {},
   "outputs": [
    {
     "name": "stdout",
     "output_type": "stream",
     "text": [
      "KarnAtakA\n",
      "Karnataka\n",
      "KARNATAKA\n",
      "karnataka\n"
     ]
    }
   ],
   "source": [
    "name=\"KarnAtakA\"\n",
    "print(name)\n",
    "print(name.title())\n",
    "print(name.upper())\n",
    "print(name.lower())"
   ]
  },
  {
   "cell_type": "code",
   "execution_count": null,
   "metadata": {},
   "outputs": [],
   "source": [
    "# Introduction to f strings in python: this is used for concatenation\n",
    "# General syntax of f string:\n",
    "f \"cutom word {placeholder1} {placeholder2}-------{placeholder---n}\""
   ]
  },
  {
   "cell_type": "code",
   "execution_count": 21,
   "metadata": {},
   "outputs": [
    {
     "name": "stdout",
     "output_type": "stream",
     "text": [
      "naveen kumar\n",
      "Naveen Kumar\n"
     ]
    }
   ],
   "source": [
    "fname=\"naveen\"\n",
    "lname=\"kumar\"\n",
    "#Reqt: I want to get the full name\n",
    "full_name= f\"{fname} {lname}\"\n",
    "print(full_name)\n",
    "#reqt: I want to get the names in a proper way\n",
    "print(full_name.title())\n"
   ]
  },
  {
   "cell_type": "code",
   "execution_count": 23,
   "metadata": {},
   "outputs": [
    {
     "name": "stdout",
     "output_type": "stream",
     "text": [
      "Keep up the good Work, Naveen Kumar\n"
     ]
    }
   ],
   "source": [
    "x=f\"Keep up the good Work, {full_name.title()}\"\n",
    "print(x)"
   ]
  },
  {
   "cell_type": "code",
   "execution_count": null,
   "metadata": {},
   "outputs": [],
   "source": [
    "# Adding white spaces to strings:\n",
    "# Reqt: I have conducted a survey in a college among the students to choose thier favourite programming language"
   ]
  },
  {
   "cell_type": "code",
   "execution_count": 24,
   "metadata": {},
   "outputs": [
    {
     "name": "stdout",
     "output_type": "stream",
     "text": [
      "Favourite langiage: Python C Jaava C++ Swift\n"
     ]
    }
   ],
   "source": [
    "print(\"Favourite langiage: Python C Jaava C++ Swift\")  #the output is looking clumsy"
   ]
  },
  {
   "cell_type": "code",
   "execution_count": 25,
   "metadata": {},
   "outputs": [
    {
     "name": "stdout",
     "output_type": "stream",
     "text": [
      "Favourite language:\n",
      "Python \n",
      "C \n",
      "Jaava \n",
      "C++ \n",
      "Swift\n"
     ]
    }
   ],
   "source": [
    "print(\"Favourite language:\\nPython \\nC \\nJaava \\nC++ \\nSwift\") # \\n ---->New lne delimiter"
   ]
  },
  {
   "cell_type": "code",
   "execution_count": null,
   "metadata": {},
   "outputs": [],
   "source": [
    "# if we add \\t----used a tab delimeiter"
   ]
  },
  {
   "cell_type": "code",
   "execution_count": 26,
   "metadata": {},
   "outputs": [
    {
     "name": "stdout",
     "output_type": "stream",
     "text": [
      "Favourite language:\n",
      "\tPython \n",
      "\tC \n",
      "\tJaava \n",
      "\tC++ \n",
      "\tSwift\n"
     ]
    }
   ],
   "source": [
    "print(\"Favourite language:\\n\\tPython \\n\\tC \\n\\tJaava \\n\\tC++ \\n\\tSwift\")"
   ]
  },
  {
   "cell_type": "code",
   "execution_count": null,
   "metadata": {},
   "outputs": [],
   "source": [
    "# Removing white spaces or additional extra spaces from the string"
   ]
  },
  {
   "cell_type": "code",
   "execution_count": 27,
   "metadata": {},
   "outputs": [
    {
     "name": "stdout",
     "output_type": "stream",
     "text": [
      "python\n"
     ]
    }
   ],
   "source": [
    "favlang=\"python\"\n",
    "print(favlang)"
   ]
  },
  {
   "cell_type": "code",
   "execution_count": 30,
   "metadata": {},
   "outputs": [
    {
     "name": "stdout",
     "output_type": "stream",
     "text": [
      "  python\n",
      "python   \n",
      "      python  \n"
     ]
    }
   ],
   "source": [
    "favlang1=\"  python\"\n",
    "print(favlang1)\n",
    "favlang2=\"python   \"\n",
    "print(favlang2)\n",
    "favlang3=\"      python  \"\n",
    "print(favlang3)"
   ]
  },
  {
   "cell_type": "code",
   "execution_count": null,
   "metadata": {},
   "outputs": [],
   "source": [
    "#Reqt:I want to remove the extra space occupied by the strings as it takes additional space and its more cost oriented:\n",
    "lstrip:removes addiitonal space present in the left side only\n",
    "rstrip:eliminates extra space present in the right side only\n",
    "strip: removes an addiitonal space present in both sides. strip starts searching for additonal space on either side and removes the same.\n",
    "incase if we actually know which space to delete then we can use the effective method."
   ]
  },
  {
   "cell_type": "code",
   "execution_count": 31,
   "metadata": {},
   "outputs": [
    {
     "data": {
      "text/plain": [
       "'python'"
      ]
     },
     "execution_count": 31,
     "metadata": {},
     "output_type": "execute_result"
    }
   ],
   "source": [
    "favlang1.lstrip()\n",
    "favlang2.rstrip()\n",
    "favlang3.strip()"
   ]
  },
  {
   "cell_type": "code",
   "execution_count": null,
   "metadata": {},
   "outputs": [],
   "source": []
  },
  {
   "cell_type": "markdown",
   "metadata": {},
   "source": [
    "# Day-04: INTRODUCTION TO LIST DATA TYPE"
   ]
  },
  {
   "cell_type": "code",
   "execution_count": null,
   "metadata": {},
   "outputs": [],
   "source": [
    "# Definition:\n",
    "    A list is a collection of items in a particular order.\n",
    "# Classification:\n",
    "    Its a Mutable data type\n",
    "# How do you define a List ? ------- > Using Square bracket []\n"
   ]
  },
  {
   "cell_type": "code",
   "execution_count": 1,
   "metadata": {},
   "outputs": [
    {
     "name": "stdout",
     "output_type": "stream",
     "text": [
      "['ayush', 'chandra', 'naga', 'gagan', 'sidhant', 'subhash']\n"
     ]
    },
    {
     "data": {
      "text/plain": [
       "list"
      ]
     },
     "execution_count": 1,
     "metadata": {},
     "output_type": "execute_result"
    }
   ],
   "source": [
    "students=['ayush','chandra','naga','gagan','sidhant','subhash']\n",
    "print(students)\n",
    "# to know the data type we will use type method\n",
    "type(students)"
   ]
  },
  {
   "cell_type": "code",
   "execution_count": null,
   "metadata": {},
   "outputs": [],
   "source": [
    "# How to access elements from the above list.\n",
    "#Req: I want to access ayush name from the above list\n",
    "# Introduction to indexing\n",
    "Indexing starts from 0,1,2,3,......... and negative indexing starts from -1,-2,-3,......so on"
   ]
  },
  {
   "cell_type": "code",
   "execution_count": 2,
   "metadata": {},
   "outputs": [
    {
     "data": {
      "text/plain": [
       "'ayush'"
      ]
     },
     "execution_count": 2,
     "metadata": {},
     "output_type": "execute_result"
    }
   ],
   "source": [
    "#indexing ayush from students:\n",
    "students[0]"
   ]
  },
  {
   "cell_type": "code",
   "execution_count": 4,
   "metadata": {},
   "outputs": [
    {
     "name": "stdout",
     "output_type": "stream",
     "text": [
      "Ayush\n"
     ]
    }
   ],
   "source": [
    "print(students[0].title())"
   ]
  },
  {
   "cell_type": "code",
   "execution_count": 5,
   "metadata": {},
   "outputs": [
    {
     "name": "stdout",
     "output_type": "stream",
     "text": [
      "Gagan\n"
     ]
    }
   ],
   "source": [
    "print(students[3].title())"
   ]
  },
  {
   "cell_type": "code",
   "execution_count": null,
   "metadata": {},
   "outputs": [],
   "source": [
    "# REQUIREMENTS:\n",
    "1. How to add a new element to the list ------ # append method and insert method\n",
    "2. How to modify the elements in  the list----\n",
    "3. How to delete the elements from the list----- del function"
   ]
  },
  {
   "cell_type": "code",
   "execution_count": null,
   "metadata": {},
   "outputs": [],
   "source": [
    "# 1. I want to add Naveen to the above listed group"
   ]
  },
  {
   "cell_type": "code",
   "execution_count": 6,
   "metadata": {},
   "outputs": [
    {
     "name": "stdout",
     "output_type": "stream",
     "text": [
      "['ayush', 'chandra', 'naga', 'gagan', 'sidhant', 'subhash', 'naveen']\n"
     ]
    }
   ],
   "source": [
    "students.append(\"naveen\") # append always adds the elements to the last position of the list.\n",
    "print(students)"
   ]
  },
  {
   "cell_type": "code",
   "execution_count": 7,
   "metadata": {},
   "outputs": [
    {
     "name": "stdout",
     "output_type": "stream",
     "text": [
      "['ayush', 'chandra', 'KUMAR', 'naga', 'gagan', 'sidhant', 'subhash', 'naveen']\n"
     ]
    }
   ],
   "source": [
    "#Req: How can I add an elemnent to the desired position?--------> insert method\n",
    "students.insert(2,\"KUMAR\")\n",
    "print(students)\n"
   ]
  },
  {
   "cell_type": "code",
   "execution_count": null,
   "metadata": {},
   "outputs": [],
   "source": [
    "#INTERVIEW Question: What is the difference between append and insert method?\n",
    "# ANS: append adds an element to the last position of the list where as insert method adds an elemnt to the derired position of the list."
   ]
  },
  {
   "cell_type": "code",
   "execution_count": 12,
   "metadata": {},
   "outputs": [
    {
     "name": "stdout",
     "output_type": "stream",
     "text": [
      "['ayush', 'chandra', 'KUMAR', 'naga', 'gagan', 'sidhant', 'subhash', 'naveen']\n"
     ]
    }
   ],
   "source": [
    "print(students[0:]) # gives all names of list in a proper order"
   ]
  },
  {
   "cell_type": "code",
   "execution_count": 20,
   "metadata": {},
   "outputs": [
    {
     "ename": "AttributeError",
     "evalue": "'list' object has no attribute 'title'",
     "output_type": "error",
     "traceback": [
      "\u001b[1;31m---------------------------------------------------------------------------\u001b[0m",
      "\u001b[1;31mAttributeError\u001b[0m                            Traceback (most recent call last)",
      "\u001b[1;32m<ipython-input-20-e2a5d42b02a9>\u001b[0m in \u001b[0;36m<module>\u001b[1;34m\u001b[0m\n\u001b[1;32m----> 1\u001b[1;33m \u001b[0mprint\u001b[0m\u001b[1;33m(\u001b[0m\u001b[0mstudents\u001b[0m\u001b[1;33m[\u001b[0m\u001b[1;36m0\u001b[0m\u001b[1;33m:\u001b[0m\u001b[1;33m]\u001b[0m\u001b[1;33m.\u001b[0m\u001b[0mtitle\u001b[0m\u001b[1;33m(\u001b[0m\u001b[1;33m)\u001b[0m\u001b[1;33m)\u001b[0m\u001b[1;33m\u001b[0m\u001b[1;33m\u001b[0m\u001b[0m\n\u001b[0m",
      "\u001b[1;31mAttributeError\u001b[0m: 'list' object has no attribute 'title'"
     ]
    }
   ],
   "source": [
    "print(students[0:].title())"
   ]
  },
  {
   "cell_type": "code",
   "execution_count": 21,
   "metadata": {},
   "outputs": [
    {
     "name": "stdout",
     "output_type": "stream",
     "text": [
      "['ayush', 'chandra', 'KUMAR', 'naga', 'gagan', 'sidhant', 'subhash', 'naveen']\n"
     ]
    }
   ],
   "source": [
    "print(students[0:])"
   ]
  },
  {
   "cell_type": "code",
   "execution_count": 24,
   "metadata": {},
   "outputs": [
    {
     "ename": "AttributeError",
     "evalue": "'list' object has no attribute 'title'",
     "output_type": "error",
     "traceback": [
      "\u001b[1;31m---------------------------------------------------------------------------\u001b[0m",
      "\u001b[1;31mAttributeError\u001b[0m                            Traceback (most recent call last)",
      "\u001b[1;32m<ipython-input-24-a45de85945c4>\u001b[0m in \u001b[0;36m<module>\u001b[1;34m\u001b[0m\n\u001b[1;32m----> 1\u001b[1;33m \u001b[0mprint\u001b[0m\u001b[1;33m(\u001b[0m\u001b[0mstudents\u001b[0m \u001b[1;33m[\u001b[0m\u001b[1;36m0\u001b[0m\u001b[1;33m:\u001b[0m\u001b[1;36m4\u001b[0m\u001b[1;33m]\u001b[0m\u001b[1;33m.\u001b[0m\u001b[0mtitle\u001b[0m\u001b[1;33m(\u001b[0m\u001b[1;33m)\u001b[0m\u001b[1;33m)\u001b[0m\u001b[1;33m\u001b[0m\u001b[1;33m\u001b[0m\u001b[0m\n\u001b[0m",
      "\u001b[1;31mAttributeError\u001b[0m: 'list' object has no attribute 'title'"
     ]
    }
   ],
   "source": [
    "print(students [0:4].title())   # Why is this syntax not working?"
   ]
  },
  {
   "cell_type": "code",
   "execution_count": 25,
   "metadata": {},
   "outputs": [
    {
     "data": {
      "text/plain": [
       "'Chandra'"
      ]
     },
     "execution_count": 25,
     "metadata": {},
     "output_type": "execute_result"
    }
   ],
   "source": [
    "students[1].title()"
   ]
  },
  {
   "cell_type": "code",
   "execution_count": null,
   "metadata": {},
   "outputs": [],
   "source": [
    "# Req: How to modify the elemnts of a list"
   ]
  },
  {
   "cell_type": "code",
   "execution_count": 26,
   "metadata": {},
   "outputs": [
    {
     "name": "stdout",
     "output_type": "stream",
     "text": [
      "['ayush', 'chandra', 'KUMAR', 'naga', 'gagan', 'sidhant', 'subhash', 'naveen']\n"
     ]
    }
   ],
   "source": [
    "print(students)"
   ]
  },
  {
   "cell_type": "code",
   "execution_count": 27,
   "metadata": {},
   "outputs": [
    {
     "data": {
      "text/plain": [
       "8"
      ]
     },
     "execution_count": 27,
     "metadata": {},
     "output_type": "execute_result"
    }
   ],
   "source": [
    "len(students) "
   ]
  },
  {
   "cell_type": "code",
   "execution_count": 28,
   "metadata": {},
   "outputs": [
    {
     "data": {
      "text/plain": [
       "'naveen'"
      ]
     },
     "execution_count": 28,
     "metadata": {},
     "output_type": "execute_result"
    }
   ],
   "source": [
    "students[7]"
   ]
  },
  {
   "cell_type": "code",
   "execution_count": 29,
   "metadata": {},
   "outputs": [
    {
     "name": "stdout",
     "output_type": "stream",
     "text": [
      "['ayush', 'chandra', 'KUMAR', 'naga', 'gagan', 'sidhant', 'subhash', 'Faiyaz']\n"
     ]
    }
   ],
   "source": [
    "students[7]='Faiyaz'\n",
    "print(students)"
   ]
  },
  {
   "cell_type": "code",
   "execution_count": null,
   "metadata": {},
   "outputs": [],
   "source": [
    "#Reqt: How to delete an elemnt from the list:   -----> del method"
   ]
  },
  {
   "cell_type": "code",
   "execution_count": 30,
   "metadata": {},
   "outputs": [
    {
     "name": "stdout",
     "output_type": "stream",
     "text": [
      "['ayush', 'chandra', 'KUMAR', 'naga', 'gagan', 'sidhant', 'subhash', 'Faiyaz']\n"
     ]
    }
   ],
   "source": [
    "# I want to delete ayush from the above list\n",
    "print(students)"
   ]
  },
  {
   "cell_type": "code",
   "execution_count": 31,
   "metadata": {},
   "outputs": [
    {
     "name": "stdout",
     "output_type": "stream",
     "text": [
      "['chandra', 'KUMAR', 'naga', 'gagan', 'sidhant', 'subhash', 'Faiyaz']\n"
     ]
    }
   ],
   "source": [
    "del students[0]\n",
    "print(students)"
   ]
  },
  {
   "cell_type": "code",
   "execution_count": null,
   "metadata": {},
   "outputs": [],
   "source": []
  },
  {
   "cell_type": "markdown",
   "metadata": {},
   "source": [
    "# Organising the list data type"
   ]
  },
  {
   "cell_type": "code",
   "execution_count": 33,
   "metadata": {},
   "outputs": [
    {
     "name": "stdout",
     "output_type": "stream",
     "text": [
      "['bmw', 'audi', 'benz', 'chevrolet', 'kia']\n"
     ]
    },
    {
     "data": {
      "text/plain": [
       "list"
      ]
     },
     "execution_count": 33,
     "metadata": {},
     "output_type": "execute_result"
    }
   ],
   "source": [
    "cars=['bmw','audi','benz','chevrolet','kia']\n",
    "print(cars)\n",
    "type(cars)"
   ]
  },
  {
   "cell_type": "code",
   "execution_count": null,
   "metadata": {},
   "outputs": [],
   "source": [
    "# Req: how to know the count of elemnts in a list? ----> length method is used"
   ]
  },
  {
   "cell_type": "code",
   "execution_count": 34,
   "metadata": {},
   "outputs": [
    {
     "data": {
      "text/plain": [
       "5"
      ]
     },
     "execution_count": 34,
     "metadata": {},
     "output_type": "execute_result"
    }
   ],
   "source": [
    "len(cars)"
   ]
  },
  {
   "cell_type": "code",
   "execution_count": null,
   "metadata": {},
   "outputs": [],
   "source": [
    "# I want ot arrange the above list of elements in alphabetical order:\n",
    "2 approaches:\n",
    "    1. sorted: changes applied here are temporary\n",
    "    2. sort: changes applied here are permanent."
   ]
  },
  {
   "cell_type": "code",
   "execution_count": 35,
   "metadata": {},
   "outputs": [
    {
     "name": "stdout",
     "output_type": "stream",
     "text": [
      "['audi', 'benz', 'bmw', 'chevrolet', 'kia']\n"
     ]
    }
   ],
   "source": [
    "print(sorted(cars)) # this is temporary"
   ]
  },
  {
   "cell_type": "code",
   "execution_count": 40,
   "metadata": {},
   "outputs": [
    {
     "name": "stdout",
     "output_type": "stream",
     "text": [
      "['audi', 'benz', 'bmw', 'chevrolet', 'kia']\n"
     ]
    }
   ],
   "source": [
    "# let me check the original order:\n",
    "print(cars) # ----> so the changes are not hapenned on original list"
   ]
  },
  {
   "cell_type": "code",
   "execution_count": 41,
   "metadata": {},
   "outputs": [
    {
     "name": "stdout",
     "output_type": "stream",
     "text": [
      "['audi', 'benz', 'bmw', 'chevrolet', 'kia']\n"
     ]
    }
   ],
   "source": [
    "#lets use 2nd approach:\n",
    "cars.sort() # permamnet changes\n",
    "print(cars)"
   ]
  },
  {
   "cell_type": "code",
   "execution_count": null,
   "metadata": {},
   "outputs": [],
   "source": [
    "# Int Quest: what is the difference between sorted and Sort?\n",
    "\n",
    "Ans: Sorted orders the elemnts of data on temporary basis where as sort orders the elements of a list permanently:"
   ]
  },
  {
   "cell_type": "code",
   "execution_count": null,
   "metadata": {},
   "outputs": [],
   "source": []
  },
  {
   "cell_type": "code",
   "execution_count": 42,
   "metadata": {},
   "outputs": [
    {
     "name": "stdout",
     "output_type": "stream",
     "text": [
      "['audi', 'benz', 'bmw', 'chevrolet', 'kia']\n",
      "['kia', 'chevrolet', 'bmw', 'benz', 'audi']\n"
     ]
    }
   ],
   "source": [
    "# Reqt: How to print the list in a reverse order: reverse method will be used:\n",
    "print(cars)\n",
    "cars.reverse()\n",
    "print(cars)"
   ]
  },
  {
   "cell_type": "code",
   "execution_count": null,
   "metadata": {},
   "outputs": [],
   "source": [
    "# INTRODUCTION OF SLICING OF LISTS:"
   ]
  },
  {
   "cell_type": "code",
   "execution_count": 43,
   "metadata": {},
   "outputs": [
    {
     "name": "stdout",
     "output_type": "stream",
     "text": [
      "['chandra', 'KUMAR', 'naga', 'gagan', 'sidhant', 'subhash', 'Faiyaz']\n"
     ]
    }
   ],
   "source": [
    "print(students)"
   ]
  },
  {
   "cell_type": "code",
   "execution_count": null,
   "metadata": {},
   "outputs": [],
   "source": [
    "#req: I want to slice the list in to 2 elemnts of each:\n",
    "# General syntax of slicing:\n",
    "# variable[start value:stop value: step count]\n",
    "The last value is always an exclusive it wont be considered. It always take +1 count\n",
    "the concept used here is indexing."
   ]
  },
  {
   "cell_type": "code",
   "execution_count": 44,
   "metadata": {},
   "outputs": [
    {
     "name": "stdout",
     "output_type": "stream",
     "text": [
      "['chandra', 'KUMAR']\n"
     ]
    }
   ],
   "source": [
    "#req: I want to have chandra and kumar in the slice:\n",
    "print(students[0:2])"
   ]
  },
  {
   "cell_type": "code",
   "execution_count": 45,
   "metadata": {},
   "outputs": [
    {
     "name": "stdout",
     "output_type": "stream",
     "text": [
      "['gagan', 'sidhant', 'subhash', 'Faiyaz']\n"
     ]
    }
   ],
   "source": [
    "print(students[3:7])"
   ]
  },
  {
   "cell_type": "code",
   "execution_count": 47,
   "metadata": {},
   "outputs": [
    {
     "name": "stdout",
     "output_type": "stream",
     "text": [
      "['chandra', 'naga', 'sidhant', 'Faiyaz']\n"
     ]
    }
   ],
   "source": [
    "# Reqt: I want every alternate elemnt of a list: here we use step count\n",
    "print(students[0:8:2])"
   ]
  },
  {
   "cell_type": "code",
   "execution_count": null,
   "metadata": {},
   "outputs": [],
   "source": [
    "# Step count will be an important concept for interviews:"
   ]
  },
  {
   "cell_type": "code",
   "execution_count": 48,
   "metadata": {},
   "outputs": [
    {
     "name": "stdout",
     "output_type": "stream",
     "text": [
      "['chandra', 'KUMAR', 'naga', 'gagan', 'sidhant', 'subhash', 'Faiyaz']\n"
     ]
    }
   ],
   "source": [
    "# INTRODUCTION TO NEGATIVE INDEXING: negative indexing stats from -1, -2, -3, -4,-------so on\n",
    "print(students)"
   ]
  },
  {
   "cell_type": "code",
   "execution_count": 52,
   "metadata": {},
   "outputs": [
    {
     "name": "stdout",
     "output_type": "stream",
     "text": [
      "Faiyaz\n",
      "Faiyaz\n"
     ]
    }
   ],
   "source": [
    "# I want to take last elemnt of above list:\n",
    "len(students)\n",
    "print(students[6])\n",
    "print(students[-1])"
   ]
  },
  {
   "cell_type": "code",
   "execution_count": null,
   "metadata": {},
   "outputs": [],
   "source": []
  },
  {
   "cell_type": "markdown",
   "metadata": {},
   "source": [
    "# DAY:07: INTRODUCTION TO FOR LOOPS:"
   ]
  },
  {
   "cell_type": "code",
   "execution_count": 53,
   "metadata": {},
   "outputs": [
    {
     "name": "stdout",
     "output_type": "stream",
     "text": [
      "['chandra', 'KUMAR', 'naga', 'gagan', 'sidhant', 'subhash', 'Faiyaz']\n"
     ]
    }
   ],
   "source": [
    "print(students)"
   ]
  },
  {
   "cell_type": "code",
   "execution_count": null,
   "metadata": {},
   "outputs": [],
   "source": [
    "#Reqt:01 I want to appreciate the above students"
   ]
  },
  {
   "cell_type": "code",
   "execution_count": 62,
   "metadata": {},
   "outputs": [
    {
     "name": "stdout",
     "output_type": "stream",
     "text": [
      "Keep up the good work,chandra\n"
     ]
    }
   ],
   "source": [
    "print(f\"Keep up the good work,{students[0]}\")"
   ]
  },
  {
   "cell_type": "code",
   "execution_count": 57,
   "metadata": {},
   "outputs": [
    {
     "name": "stdout",
     "output_type": "stream",
     "text": [
      "['chandra', 'KUMAR', 'naga', 'gagan', 'sidhant', 'subhash', 'Faiyaz']\n"
     ]
    }
   ],
   "source": [
    "print(students)"
   ]
  },
  {
   "cell_type": "code",
   "execution_count": 63,
   "metadata": {},
   "outputs": [
    {
     "name": "stdout",
     "output_type": "stream",
     "text": [
      "Keep up the good work,Chandra\n"
     ]
    }
   ],
   "source": [
    "print(f\"Keep up the good work,{students[0].title()}\")"
   ]
  },
  {
   "cell_type": "code",
   "execution_count": null,
   "metadata": {},
   "outputs": [],
   "source": [
    "# If I want to appreciate this for all students then I have to optimize it. for this we will use for loops."
   ]
  },
  {
   "cell_type": "code",
   "execution_count": null,
   "metadata": {},
   "outputs": [],
   "source": [
    "# General syntx of for loop:\n",
    "for tempvar in mainvar:\n",
    "    print(tempvar)   # the gap toward left is called indentation."
   ]
  },
  {
   "cell_type": "code",
   "execution_count": 64,
   "metadata": {},
   "outputs": [
    {
     "name": "stdout",
     "output_type": "stream",
     "text": [
      "Keep up the good work,Chandra\n",
      "Keep up the good work,Kumar\n",
      "Keep up the good work,Naga\n",
      "Keep up the good work,Gagan\n",
      "Keep up the good work,Sidhant\n",
      "Keep up the good work,Subhash\n",
      "Keep up the good work,Faiyaz\n"
     ]
    }
   ],
   "source": [
    "for x in students:\n",
    "    print(f\"Keep up the good work,{x.title()}\")"
   ]
  },
  {
   "cell_type": "code",
   "execution_count": 65,
   "metadata": {},
   "outputs": [
    {
     "name": "stdout",
     "output_type": "stream",
     "text": [
      "Keep up the good work,Chandra\n",
      "Keep up the good work,Kumar\n",
      "Keep up the good work,Naga\n",
      "Keep up the good work,Gagan\n",
      "Keep up the good work,Sidhant\n",
      "Keep up the good work,Subhash\n",
      "Keep up the good work,Faiyaz\n"
     ]
    }
   ],
   "source": [
    "for ironman in students:\n",
    "    print(f\"Keep up the good work,{ironman.title()}\") "
   ]
  },
  {
   "cell_type": "code",
   "execution_count": null,
   "metadata": {},
   "outputs": [],
   "source": []
  },
  {
   "cell_type": "code",
   "execution_count": 66,
   "metadata": {},
   "outputs": [
    {
     "name": "stdout",
     "output_type": "stream",
     "text": [
      "Keep up the good work,Chandra\n",
      "Looking forward to receive the github urls for the day,Chandra\n",
      "Keep up the good work,Kumar\n",
      "Looking forward to receive the github urls for the day,Kumar\n",
      "Keep up the good work,Naga\n",
      "Looking forward to receive the github urls for the day,Naga\n",
      "Keep up the good work,Gagan\n",
      "Looking forward to receive the github urls for the day,Gagan\n",
      "Keep up the good work,Sidhant\n",
      "Looking forward to receive the github urls for the day,Sidhant\n",
      "Keep up the good work,Subhash\n",
      "Looking forward to receive the github urls for the day,Subhash\n",
      "Keep up the good work,Faiyaz\n",
      "Looking forward to receive the github urls for the day,Faiyaz\n"
     ]
    }
   ],
   "source": [
    "for x in students:\n",
    "    print(f\"Keep up the good work,{x.title()}\")  # the output looks very clumsy\n",
    "    print(f\"Looking forward to receive the github urls for the day,{x.title()}\")\n",
    "    "
   ]
  },
  {
   "cell_type": "code",
   "execution_count": null,
   "metadata": {},
   "outputs": [],
   "source": [
    "# The above output is very clumsy and hence we have to standardize the same by adding a new line : \\n --- new line delimiter:"
   ]
  },
  {
   "cell_type": "code",
   "execution_count": 68,
   "metadata": {},
   "outputs": [
    {
     "name": "stdout",
     "output_type": "stream",
     "text": [
      "Keep up the good work,Chandra\n",
      "Looking forward to receive the github urls for the day,Chandra.\n",
      "\n",
      "Keep up the good work,Kumar\n",
      "Looking forward to receive the github urls for the day,Kumar.\n",
      "\n",
      "Keep up the good work,Naga\n",
      "Looking forward to receive the github urls for the day,Naga.\n",
      "\n",
      "Keep up the good work,Gagan\n",
      "Looking forward to receive the github urls for the day,Gagan.\n",
      "\n",
      "Keep up the good work,Sidhant\n",
      "Looking forward to receive the github urls for the day,Sidhant.\n",
      "\n",
      "Keep up the good work,Subhash\n",
      "Looking forward to receive the github urls for the day,Subhash.\n",
      "\n",
      "Keep up the good work,Faiyaz\n",
      "Looking forward to receive the github urls for the day,Faiyaz.\n",
      "\n",
      "Thank you all for showing an interest in learning Python\n"
     ]
    }
   ],
   "source": [
    "for x in students:\n",
    "    print(f\"Keep up the good work,{x.title()}\")  # the output looks very clumsy #this is writting in loop\n",
    "    print(f\"Looking forward to receive the github urls for the day,{x.title()}.\\n\") # this is writting in loop\n",
    "    \n",
    "print(\"Thank you all for showing an interest in learning Python\") #writting out of the loop\n",
    "    "
   ]
  },
  {
   "cell_type": "code",
   "execution_count": null,
   "metadata": {},
   "outputs": [],
   "source": []
  },
  {
   "cell_type": "code",
   "execution_count": null,
   "metadata": {},
   "outputs": [],
   "source": []
  }
 ],
 "metadata": {
  "kernelspec": {
   "display_name": "Python 3",
   "language": "python",
   "name": "python3"
  },
  "language_info": {
   "codemirror_mode": {
    "name": "ipython",
    "version": 3
   },
   "file_extension": ".py",
   "mimetype": "text/x-python",
   "name": "python",
   "nbconvert_exporter": "python",
   "pygments_lexer": "ipython3",
   "version": "3.8.5"
  }
 },
 "nbformat": 4,
 "nbformat_minor": 4
}
